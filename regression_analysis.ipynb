{
 "cells": [
  {
   "cell_type": "code",
   "execution_count": null,
   "metadata": {},
   "outputs": [],
   "source": [
    "# Regression Analysis for the AI Agents"
   ]
  },
  {
   "cell_type": "code",
   "execution_count": null,
   "metadata": {},
   "outputs": [],
   "source": [
    "# Import necessary libraries\n",
    "import json\n",
    "import pandas as pd\n",
    "import statsmodels.api as sm\n",
    "import statsmodels.formula.api as smf\n",
    "from stargazer.stargazer import Stargazer"
   ]
  },
  {
   "cell_type": "code",
   "execution_count": null,
   "metadata": {},
   "outputs": [],
   "source": [
    "# Load the JSON file\n",
    "json_file_path = \"results_static_20241212_125201.json\"  # Replace with your file path\n",
    "with open(json_file_path, \"r\") as file:\n",
    "    data = json.load(file)"
   ]
  },
  {
   "cell_type": "code",
   "execution_count": null,
   "metadata": {},
   "outputs": [],
   "source": [
    "# Extract relevant data from the JSON\n",
    "agents_data = []\n",
    "for episode in data:\n",
    "    for decision in episode[\"agent_decisions\"]:\n",
    "        agent_name = decision[\"agent_name\"]\n",
    "        metrics = decision[\"metrics\"]\n",
    "        episode_num = episode[\"episode\"]\n",
    "        agents_data.append({\n",
    "            \"Agent\": agent_name,\n",
    "            \"Episode\": episode_num,\n",
    "            \"Minimum_Welfare\": metrics.get(\"minimum_welfare\", None),\n",
    "            \"Average_Welfare\": metrics.get(\"average_welfare\", None),\n",
    "            \"Equity_Score\": metrics.get(\"equity_score\", None)\n",
    "        })"
   ]
  },
  {
   "cell_type": "code",
   "execution_count": null,
   "metadata": {},
   "outputs": [],
   "source": [
    "# Convert to DataFrame\n",
    "df = pd.DataFrame(agents_data)"
   ]
  },
  {
   "cell_type": "code",
   "execution_count": null,
   "metadata": {},
   "outputs": [],
   "source": [
    "# Clean the DataFrame (e.g., remove rows with missing values)\n",
    "df_clean = df.dropna()"
   ]
  },
  {
   "cell_type": "code",
   "execution_count": null,
   "metadata": {},
   "outputs": [],
   "source": [
    "# Ensure the \"Agent\" column is treated as a categorical variable\n",
    "df_clean[\"Agent\"] = df_clean[\"Agent\"].astype(\"category\")"
   ]
  },
  {
   "cell_type": "code",
   "execution_count": null,
   "metadata": {},
   "outputs": [],
   "source": [
    "# Fit the Ordinary Least Squares (OLS) model for Equity Score\n",
    "model = smf.ols(\"Equity_Score ~ C(Agent)\", data=df_clean).fit()"
   ]
  },
  {
   "cell_type": "code",
   "execution_count": null,
   "metadata": {},
   "outputs": [],
   "source": [
    "# Generate the Stargazer table\n",
    "stargazer = Stargazer([model])"
   ]
  },
  {
   "cell_type": "code",
   "execution_count": null,
   "metadata": {},
   "outputs": [],
   "source": [
    "# Export the Stargazer table to HTML or LaTeX\n",
    "html_table = stargazer.render_html()  # For HTML output\n",
    "latex_table = stargazer.render_latex()  # For LaTeX output"
   ]
  },
  {
   "cell_type": "code",
   "execution_count": null,
   "metadata": {},
   "outputs": [],
   "source": [
    "# Save to file (optional)\n",
    "with open(\"stargazer_table.html\", \"w\") as f:\n",
    "    f.write(html_table)\n",
    "\n",
    "with open(\"stargazer_table.tex\", \"w\") as f:\n",
    "    f.write(latex_table)\n",
    "\n",
    "# Print the Stargazer table in HTML format\n",
    "print(html_table)\n"
   ]
  }
 ],
 "metadata": {
  "kernelspec": {
   "display_name": "base",
   "language": "python",
   "name": "python3"
  },
  "language_info": {
   "codemirror_mode": {
    "name": "ipython",
    "version": 3
   },
   "file_extension": ".py",
   "mimetype": "text/x-python",
   "name": "python",
   "nbconvert_exporter": "python",
   "pygments_lexer": "ipython3",
   "version": "3.8.8"
  },
  "orig_nbformat": 4,
  "vscode": {
   "interpreter": {
    "hash": "f57ffd79f07881f90ffd84d1ee449596c2bc3e88fee236dc006178dc960802e5"
   }
  }
 },
 "nbformat": 4,
 "nbformat_minor": 2
}
